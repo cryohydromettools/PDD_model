{
 "cells": [
  {
   "cell_type": "code",
   "execution_count": 1,
   "metadata": {},
   "outputs": [],
   "source": [
    "import pandas as pd\n",
    "import warnings\n",
    "warnings.filterwarnings('ignore')"
   ]
  },
  {
   "cell_type": "code",
   "execution_count": 2,
   "metadata": {},
   "outputs": [],
   "source": [
    "## SAM\n",
    "path = 'http://www.nerc-bas.ac.uk/public/icd/gjma/newsam.1957.2007.txt'\n",
    "df = pd.read_csv(path, sep=' +', engine='python')\n",
    "lag=0\n",
    "time = pd.date_range(pd.datetime(1957, 1+lag, 1),\n",
    "                     periods=len(df.values.flatten()),\n",
    "                     freq='MS')\n",
    "\n",
    "df_SAM = pd.DataFrame({'SAM': df.values.flatten()}, index=time).loc['1959':'2020']"
   ]
  },
  {
   "cell_type": "code",
   "execution_count": 3,
   "metadata": {},
   "outputs": [],
   "source": [
    "## ENSO\n",
    "\n",
    "path = 'https://www.cpc.ncep.noaa.gov/data/indices/ersst5.nino.mth.81-10.ascii'\n",
    "df = pd.read_csv(path, sep=' +', engine='python')\n",
    "\n",
    "lag=0\n",
    "time = pd.date_range(pd.datetime(1950, 1+lag, 1),\n",
    "                     periods=len(df.index),\n",
    "                     freq='MS')\n",
    "\n",
    "df_ENSO = df[['ANOM.3']]\n",
    "df_ENSO.columns = ['NINO3.4']\n",
    "df_ENSO.index = time\n",
    "df_ENSO = df_ENSO.loc['1959':'2020']"
   ]
  },
  {
   "cell_type": "code",
   "execution_count": 4,
   "metadata": {},
   "outputs": [],
   "source": [
    "# PDO\n",
    "path = '../data/climate_mode/pdo.csv'\n",
    "df = pd.read_csv(path, sep=' +', engine='python').drop(['Year'], axis=1)\n",
    "lag=0\n",
    "time = pd.date_range(pd.datetime(1854, 1+lag, 1),\n",
    "                     periods=len(df.values.flatten()),\n",
    "                     freq='MS')\n",
    "\n",
    "df_PDO = pd.DataFrame({'PDO': df.values.flatten()}, index=time).loc['1959':'2020']"
   ]
  },
  {
   "cell_type": "code",
   "execution_count": 5,
   "metadata": {},
   "outputs": [],
   "source": [
    "# PDO\n",
    "path = '../data/climate_mode/soi.csv'\n",
    "df = pd.read_csv(path, sep=' +', engine='python').drop(['YEAR'], axis=1)\n",
    "lag=0\n",
    "time = pd.date_range(pd.datetime(1951, 1+lag, 1),\n",
    "                     periods=len(df.values.flatten()),\n",
    "                     freq='MS')\n",
    "\n",
    "df_SOI = pd.DataFrame({'SOI': df.values.flatten()}, index=time).loc['1959':'2020']"
   ]
  },
  {
   "cell_type": "code",
   "execution_count": 8,
   "metadata": {},
   "outputs": [],
   "source": [
    "df_SAM['NINO3.4'] =  df_ENSO['NINO3.4']\n",
    "df_SAM['PDO'] =  df_PDO['PDO']\n",
    "df_SAM['SOI'] =  df_SOI['SOI']\n",
    "df_SAM.index.name = 'time'\n",
    "df_SAM.to_csv('../data/climate_mode/climate_modes.csv', sep='\\t', index=True)"
   ]
  }
 ],
 "metadata": {
  "kernelspec": {
   "display_name": "Python 3.10.5 ('DL_SMB')",
   "language": "python",
   "name": "python3"
  },
  "language_info": {
   "codemirror_mode": {
    "name": "ipython",
    "version": 3
   },
   "file_extension": ".py",
   "mimetype": "text/x-python",
   "name": "python",
   "nbconvert_exporter": "python",
   "pygments_lexer": "ipython3",
   "version": "3.10.5"
  },
  "orig_nbformat": 4,
  "vscode": {
   "interpreter": {
    "hash": "02b761a1ae88bd6b2e3a382f38c1f72e4fd8c0aeb71343e8eef9dc568c1adda5"
   }
  }
 },
 "nbformat": 4,
 "nbformat_minor": 2
}
