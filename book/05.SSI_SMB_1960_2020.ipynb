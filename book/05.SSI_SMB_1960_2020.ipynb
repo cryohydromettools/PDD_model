{
 "cells": [
  {
   "cell_type": "code",
   "execution_count": 2,
   "metadata": {},
   "outputs": [],
   "source": [
    "import xarray as xr\n",
    "import glob\n",
    "import numpy as np\n",
    "import geopandas as gpd\n",
    "import pandas as pd\n",
    "import sys\n",
    "sys.path.append('../')\n",
    "from utilities.era5_down import nc_inter_2D, add_variable_along_timelatlon, annual_smb_glacier\n",
    "from utilities.plot_results import plot_smb\n",
    "\n",
    "from dask.distributed import Client\n",
    "client = Client()"
   ]
  },
  {
   "cell_type": "code",
   "execution_count": 3,
   "metadata": {},
   "outputs": [],
   "source": [
    "def run_dask():\n",
    "    input_dem = '../data/static/SSI_static_2000_1000.nc'\n",
    "    ds_dem = xr.open_dataset(input_dem)\n",
    "\n",
    "    files = sorted(glob.glob('../data/ERA_59_20_day/*.nc'))\n",
    "\n",
    "    ds = xr.open_dataset(files[0])\n",
    "    dso = nc_inter_2D(ds, ds_dem, 'quadratic')\n",
    "    print('Done:'+' '+ files[0][22:])\n",
    "\n",
    "    for i in range(len(files))[1:]:\n",
    "        ds = xr.open_dataset(files[i])\n",
    "        dso1 = nc_inter_2D(ds, ds_dem, 'quadratic')\n",
    "        dso = xr.merge([dso, dso1])\n",
    "        #print(dso)\n",
    "        print('Done:'+' '+ files[i][22:])\n",
    "\n",
    "    dso  = dso.where(dso['MASK']==1, np.nan) #[['T2','PDD','SF']]\n",
    "    SMB  = dso['SF'] + (dso['PDD'] * -0.0054)\n",
    "    MO   = ((0.003 * dso['T2'] + 0.52)* dso['SF'])\n",
    "    MELT = (dso['PDD'] * -0.0084)\n",
    "    RF   = MELT + MO\n",
    "\n",
    "    add_variable_along_timelatlon(dso, MELT.values, 'MELT', 'm of water equivalent', 'Melt')\n",
    "    add_variable_along_timelatlon(dso, SMB.values, 'SMB', 'm of water equivalent', 'Surface Mass Banlance')\n",
    "    add_variable_along_timelatlon(dso, RF.values, 'Q', 'm of water equivalent', 'Runoff')\n",
    "    add_variable_along_timelatlon(dso, MO.values, 'RZ', 'm of water equivalent', 'Refreezing')\n",
    "\n",
    "    #dso.to_netcdf('../data/ERA_59_20_day_int/int_era5_1959_2020.nc')\n",
    "    #breakpoint()\n",
    "\n",
    "    df_g = gpd.read_file('../data/static/Shapefiles/SSI_all_fff.shp')\n",
    "    df_smb = pd.read_csv('../data/mass_balance/SSI_SMB.csv', sep='\\t', index_col=['YEAR'])\n",
    "\n",
    "    glaciers_shp = ['Hurd Glacier', 'Johnsons Glacier', 'Belling Glacier']\n",
    "    glaciers_smb = ['HURD', 'JOHNSONS', 'BELLINGSHAUSEN']\n",
    "\n",
    "    for i in range(len(glaciers_shp)):\n",
    "        df_all = annual_smb_glacier(df_g, glaciers_shp[i], dso, df_smb, glaciers_smb[i])\n",
    "        fig = plot_smb(df_all)\n",
    "        # Finalmente guardamos nuestra figura\n",
    "        print('Done:'+' '+ glaciers_smb[i])\n",
    "        fig.savefig('../fig/'+ glaciers_smb[i] +'.png', dpi = 200, facecolor='w', bbox_inches = 'tight', \n",
    "                    pad_inches = 0.1)\n"
   ]
  },
  {
   "cell_type": "code",
   "execution_count": 4,
   "metadata": {},
   "outputs": [
    {
     "data": {
      "text/html": [
       "<strong>Future: run_dask</strong>\n",
       "<span style=\"color: var(--jp-ui-font-color2, gray)\"> status: </span>\n",
       "\n",
       "\n",
       "<span style=\"color: var(--jp-error-color0, black)\">pending</span>,\n",
       "\n",
       "\n",
       "\n",
       "<span style=\"color: var(--jp-ui-font-color2, gray)\"> type:</span> NoneType,\n",
       "\n",
       "\n",
       "<span style=\"color: var(--jp-ui-font-color2, gray)\"> key:</span> run_dask-e3267defa08b150f8a95cadccf43062d"
      ],
      "text/plain": [
       "<Future: pending, key: run_dask-e3267defa08b150f8a95cadccf43062d>"
      ]
     },
     "execution_count": 4,
     "metadata": {},
     "output_type": "execute_result"
    },
    {
     "name": "stdout",
     "output_type": "stream",
     "text": [
      "Done: era5_1959_day.nc\n",
      "Done: era5_1960_day.nc\n",
      "Done: era5_1961_day.nc\n",
      "Done: era5_1962_day.nc\n",
      "Done: era5_1963_day.nc\n",
      "Done: era5_1964_day.nc\n",
      "Done: era5_1965_day.nc\n",
      "Done: era5_1966_day.nc\n",
      "Done: era5_1967_day.nc\n",
      "Done: era5_1968_day.nc\n",
      "Done: era5_1969_day.nc\n",
      "Done: era5_1970_day.nc\n",
      "Done: era5_1971_day.nc\n",
      "Done: era5_1972_day.nc\n",
      "Done: era5_1973_day.nc\n",
      "Done: era5_1974_day.nc\n",
      "Done: era5_1975_day.nc\n",
      "Done: era5_1976_day.nc\n",
      "Done: era5_1977_day.nc\n",
      "Done: era5_1978_day.nc\n",
      "Done: era5_1979_day.nc\n",
      "Done: era5_1980_day.nc\n",
      "Done: era5_1981_day.nc\n",
      "Done: era5_1982_day.nc\n",
      "Done: era5_1983_day.nc\n",
      "Done: era5_1984_day.nc\n",
      "Done: era5_1985_day.nc\n",
      "Done: era5_1986_day.nc\n",
      "Done: era5_1987_day.nc\n",
      "Done: era5_1988_day.nc\n",
      "Done: era5_1989_day.nc\n",
      "Done: era5_1990_day.nc\n",
      "Done: era5_1991_day.nc\n",
      "Done: era5_1992_day.nc\n",
      "Done: era5_1993_day.nc\n",
      "Done: era5_1994_day.nc\n",
      "Done: era5_1995_day.nc\n",
      "Done: era5_1996_day.nc\n",
      "Done: era5_1997_day.nc\n",
      "Done: era5_1998_day.nc\n",
      "Done: era5_1999_day.nc\n",
      "Done: era5_2000_day.nc\n",
      "Done: era5_2001_day.nc\n",
      "Done: era5_2002_day.nc\n"
     ]
    },
    {
     "name": "stderr",
     "output_type": "stream",
     "text": [
      "2022-11-18 12:01:25,154 - distributed.worker_memory - WARNING - Unmanaged memory use is high. This may indicate a memory leak or the memory may not be released to the OS; see https://distributed.dask.org/en/latest/worker-memory.html#memory-not-released-back-to-the-os for more information. -- Unmanaged memory: 1.40 GiB -- Worker memory limit: 1.92 GiB\n"
     ]
    },
    {
     "name": "stdout",
     "output_type": "stream",
     "text": [
      "Done: era5_2003_day.nc\n"
     ]
    },
    {
     "name": "stderr",
     "output_type": "stream",
     "text": [
      "2022-11-18 12:01:27,126 - distributed.worker_memory - WARNING - Unmanaged memory use is high. This may indicate a memory leak or the memory may not be released to the OS; see https://distributed.dask.org/en/latest/worker-memory.html#memory-not-released-back-to-the-os for more information. -- Unmanaged memory: 1.39 GiB -- Worker memory limit: 1.92 GiB\n"
     ]
    },
    {
     "name": "stdout",
     "output_type": "stream",
     "text": [
      "Done: era5_2004_day.nc\n"
     ]
    },
    {
     "name": "stderr",
     "output_type": "stream",
     "text": [
      "2022-11-18 12:01:28,928 - distributed.worker_memory - WARNING - Unmanaged memory use is high. This may indicate a memory leak or the memory may not be released to the OS; see https://distributed.dask.org/en/latest/worker-memory.html#memory-not-released-back-to-the-os for more information. -- Unmanaged memory: 1.36 GiB -- Worker memory limit: 1.92 GiB\n",
      "2022-11-18 12:01:29,025 - distributed.worker_memory - WARNING - Unmanaged memory use is high. This may indicate a memory leak or the memory may not be released to the OS; see https://distributed.dask.org/en/latest/worker-memory.html#memory-not-released-back-to-the-os for more information. -- Unmanaged memory: 1.42 GiB -- Worker memory limit: 1.92 GiB\n"
     ]
    },
    {
     "name": "stdout",
     "output_type": "stream",
     "text": [
      "Done: era5_2005_day.nc\n"
     ]
    },
    {
     "name": "stderr",
     "output_type": "stream",
     "text": [
      "2022-11-18 12:01:30,428 - distributed.worker_memory - WARNING - Unmanaged memory use is high. This may indicate a memory leak or the memory may not be released to the OS; see https://distributed.dask.org/en/latest/worker-memory.html#memory-not-released-back-to-the-os for more information. -- Unmanaged memory: 1.38 GiB -- Worker memory limit: 1.92 GiB\n",
      "2022-11-18 12:01:30,525 - distributed.worker_memory - WARNING - Unmanaged memory use is high. This may indicate a memory leak or the memory may not be released to the OS; see https://distributed.dask.org/en/latest/worker-memory.html#memory-not-released-back-to-the-os for more information. -- Unmanaged memory: 1.43 GiB -- Worker memory limit: 1.92 GiB\n"
     ]
    },
    {
     "name": "stdout",
     "output_type": "stream",
     "text": [
      "Done: era5_2006_day.nc\n"
     ]
    },
    {
     "name": "stderr",
     "output_type": "stream",
     "text": [
      "2022-11-18 12:01:31,928 - distributed.worker_memory - WARNING - Unmanaged memory use is high. This may indicate a memory leak or the memory may not be released to the OS; see https://distributed.dask.org/en/latest/worker-memory.html#memory-not-released-back-to-the-os for more information. -- Unmanaged memory: 1.40 GiB -- Worker memory limit: 1.92 GiB\n",
      "2022-11-18 12:01:32,026 - distributed.worker_memory - WARNING - Unmanaged memory use is high. This may indicate a memory leak or the memory may not be released to the OS; see https://distributed.dask.org/en/latest/worker-memory.html#memory-not-released-back-to-the-os for more information. -- Unmanaged memory: 1.51 GiB -- Worker memory limit: 1.92 GiB\n"
     ]
    },
    {
     "name": "stdout",
     "output_type": "stream",
     "text": [
      "Done: era5_2007_day.nc\n"
     ]
    },
    {
     "name": "stderr",
     "output_type": "stream",
     "text": [
      "2022-11-18 12:01:33,625 - distributed.worker_memory - WARNING - Unmanaged memory use is high. This may indicate a memory leak or the memory may not be released to the OS; see https://distributed.dask.org/en/latest/worker-memory.html#memory-not-released-back-to-the-os for more information. -- Unmanaged memory: 1.42 GiB -- Worker memory limit: 1.92 GiB\n",
      "2022-11-18 12:01:33,725 - distributed.worker_memory - WARNING - Unmanaged memory use is high. This may indicate a memory leak or the memory may not be released to the OS; see https://distributed.dask.org/en/latest/worker-memory.html#memory-not-released-back-to-the-os for more information. -- Unmanaged memory: 1.47 GiB -- Worker memory limit: 1.92 GiB\n"
     ]
    },
    {
     "name": "stdout",
     "output_type": "stream",
     "text": [
      "Done: era5_2008_day.nc\n"
     ]
    },
    {
     "name": "stderr",
     "output_type": "stream",
     "text": [
      "2022-11-18 12:01:35,125 - distributed.worker_memory - WARNING - Unmanaged memory use is high. This may indicate a memory leak or the memory may not be released to the OS; see https://distributed.dask.org/en/latest/worker-memory.html#memory-not-released-back-to-the-os for more information. -- Unmanaged memory: 1.34 GiB -- Worker memory limit: 1.92 GiB\n",
      "2022-11-18 12:01:35,226 - distributed.worker_memory - WARNING - Unmanaged memory use is high. This may indicate a memory leak or the memory may not be released to the OS; see https://distributed.dask.org/en/latest/worker-memory.html#memory-not-released-back-to-the-os for more information. -- Unmanaged memory: 1.45 GiB -- Worker memory limit: 1.92 GiB\n",
      "2022-11-18 12:01:35,325 - distributed.worker_memory - WARNING - Unmanaged memory use is high. This may indicate a memory leak or the memory may not be released to the OS; see https://distributed.dask.org/en/latest/worker-memory.html#memory-not-released-back-to-the-os for more information. -- Unmanaged memory: 1.53 GiB -- Worker memory limit: 1.92 GiB\n"
     ]
    },
    {
     "name": "stdout",
     "output_type": "stream",
     "text": [
      "Done: era5_2009_day.nc\n"
     ]
    },
    {
     "name": "stderr",
     "output_type": "stream",
     "text": [
      "2022-11-18 12:01:37,025 - distributed.worker_memory - WARNING - Unmanaged memory use is high. This may indicate a memory leak or the memory may not be released to the OS; see https://distributed.dask.org/en/latest/worker-memory.html#memory-not-released-back-to-the-os for more information. -- Unmanaged memory: 1.40 GiB -- Worker memory limit: 1.92 GiB\n",
      "2022-11-18 12:01:37,126 - distributed.worker_memory - WARNING - Unmanaged memory use is high. This may indicate a memory leak or the memory may not be released to the OS; see https://distributed.dask.org/en/latest/worker-memory.html#memory-not-released-back-to-the-os for more information. -- Unmanaged memory: 1.47 GiB -- Worker memory limit: 1.92 GiB\n",
      "2022-11-18 12:01:37,226 - distributed.worker_memory - WARNING - Unmanaged memory use is high. This may indicate a memory leak or the memory may not be released to the OS; see https://distributed.dask.org/en/latest/worker-memory.html#memory-not-released-back-to-the-os for more information. -- Unmanaged memory: 1.51 GiB -- Worker memory limit: 1.92 GiB\n",
      "2022-11-18 12:01:37,482 - distributed.worker_memory - WARNING - Worker is at 82% memory usage. Pausing worker.  Process memory: 1.58 GiB -- Worker memory limit: 1.92 GiB\n",
      "2022-11-18 12:01:37,482 - distributed.worker_memory - WARNING - Unmanaged memory use is high. This may indicate a memory leak or the memory may not be released to the OS; see https://distributed.dask.org/en/latest/worker-memory.html#memory-not-released-back-to-the-os for more information. -- Unmanaged memory: 1.58 GiB -- Worker memory limit: 1.92 GiB\n",
      "2022-11-18 12:01:37,484 - distributed.worker_memory - WARNING - Worker is at 30% memory usage. Resuming worker. Process memory: 601.06 MiB -- Worker memory limit: 1.92 GiB\n"
     ]
    },
    {
     "name": "stdout",
     "output_type": "stream",
     "text": [
      "Done: era5_2010_day.nc\n"
     ]
    },
    {
     "name": "stderr",
     "output_type": "stream",
     "text": [
      "2022-11-18 12:01:38,826 - distributed.worker_memory - WARNING - Unmanaged memory use is high. This may indicate a memory leak or the memory may not be released to the OS; see https://distributed.dask.org/en/latest/worker-memory.html#memory-not-released-back-to-the-os for more information. -- Unmanaged memory: 1.37 GiB -- Worker memory limit: 1.92 GiB\n",
      "2022-11-18 12:01:38,927 - distributed.worker_memory - WARNING - Unmanaged memory use is high. This may indicate a memory leak or the memory may not be released to the OS; see https://distributed.dask.org/en/latest/worker-memory.html#memory-not-released-back-to-the-os for more information. -- Unmanaged memory: 1.49 GiB -- Worker memory limit: 1.92 GiB\n",
      "2022-11-18 12:01:39,025 - distributed.worker_memory - WARNING - Worker is at 80% memory usage. Pausing worker.  Process memory: 1.54 GiB -- Worker memory limit: 1.92 GiB\n",
      "2022-11-18 12:01:39,026 - distributed.worker_memory - WARNING - Unmanaged memory use is high. This may indicate a memory leak or the memory may not be released to the OS; see https://distributed.dask.org/en/latest/worker-memory.html#memory-not-released-back-to-the-os for more information. -- Unmanaged memory: 1.54 GiB -- Worker memory limit: 1.92 GiB\n",
      "2022-11-18 12:01:39,126 - distributed.worker_memory - WARNING - Unmanaged memory use is high. This may indicate a memory leak or the memory may not be released to the OS; see https://distributed.dask.org/en/latest/worker-memory.html#memory-not-released-back-to-the-os for more information. -- Unmanaged memory: 1.57 GiB -- Worker memory limit: 1.92 GiB\n",
      "2022-11-18 12:01:39,225 - distributed.worker_memory - WARNING - Unmanaged memory use is high. This may indicate a memory leak or the memory may not be released to the OS; see https://distributed.dask.org/en/latest/worker-memory.html#memory-not-released-back-to-the-os for more information. -- Unmanaged memory: 1.59 GiB -- Worker memory limit: 1.92 GiB\n",
      "2022-11-18 12:01:39,326 - distributed.worker_memory - WARNING - Unmanaged memory use is high. This may indicate a memory leak or the memory may not be released to the OS; see https://distributed.dask.org/en/latest/worker-memory.html#memory-not-released-back-to-the-os for more information. -- Unmanaged memory: 1.60 GiB -- Worker memory limit: 1.92 GiB\n",
      "2022-11-18 12:01:39,432 - distributed.worker_memory - WARNING - Unmanaged memory use is high. This may indicate a memory leak or the memory may not be released to the OS; see https://distributed.dask.org/en/latest/worker-memory.html#memory-not-released-back-to-the-os for more information. -- Unmanaged memory: 1.60 GiB -- Worker memory limit: 1.92 GiB\n",
      "2022-11-18 12:01:39,527 - distributed.worker_memory - WARNING - Unmanaged memory use is high. This may indicate a memory leak or the memory may not be released to the OS; see https://distributed.dask.org/en/latest/worker-memory.html#memory-not-released-back-to-the-os for more information. -- Unmanaged memory: 1.60 GiB -- Worker memory limit: 1.92 GiB\n",
      "2022-11-18 12:01:39,626 - distributed.worker_memory - WARNING - Unmanaged memory use is high. This may indicate a memory leak or the memory may not be released to the OS; see https://distributed.dask.org/en/latest/worker-memory.html#memory-not-released-back-to-the-os for more information. -- Unmanaged memory: 1.60 GiB -- Worker memory limit: 1.92 GiB\n",
      "2022-11-18 12:01:39,726 - distributed.worker_memory - WARNING - Unmanaged memory use is high. This may indicate a memory leak or the memory may not be released to the OS; see https://distributed.dask.org/en/latest/worker-memory.html#memory-not-released-back-to-the-os for more information. -- Unmanaged memory: 1.60 GiB -- Worker memory limit: 1.92 GiB\n",
      "2022-11-18 12:01:39,825 - distributed.worker_memory - WARNING - Unmanaged memory use is high. This may indicate a memory leak or the memory may not be released to the OS; see https://distributed.dask.org/en/latest/worker-memory.html#memory-not-released-back-to-the-os for more information. -- Unmanaged memory: 1.60 GiB -- Worker memory limit: 1.92 GiB\n",
      "2022-11-18 12:01:39,932 - distributed.worker_memory - WARNING - Unmanaged memory use is high. This may indicate a memory leak or the memory may not be released to the OS; see https://distributed.dask.org/en/latest/worker-memory.html#memory-not-released-back-to-the-os for more information. -- Unmanaged memory: 1.60 GiB -- Worker memory limit: 1.92 GiB\n",
      "2022-11-18 12:01:40,026 - distributed.worker_memory - WARNING - Worker is at 30% memory usage. Resuming worker. Process memory: 605.40 MiB -- Worker memory limit: 1.92 GiB\n"
     ]
    },
    {
     "name": "stdout",
     "output_type": "stream",
     "text": [
      "Done: era5_2011_day.nc\n"
     ]
    },
    {
     "name": "stderr",
     "output_type": "stream",
     "text": [
      "2022-11-18 12:01:43,626 - distributed.worker_memory - WARNING - Unmanaged memory use is high. This may indicate a memory leak or the memory may not be released to the OS; see https://distributed.dask.org/en/latest/worker-memory.html#memory-not-released-back-to-the-os for more information. -- Unmanaged memory: 1.37 GiB -- Worker memory limit: 1.92 GiB\n",
      "2022-11-18 12:01:43,825 - distributed.worker_memory - WARNING - Unmanaged memory use is high. This may indicate a memory leak or the memory may not be released to the OS; see https://distributed.dask.org/en/latest/worker-memory.html#memory-not-released-back-to-the-os for more information. -- Unmanaged memory: 1.39 GiB -- Worker memory limit: 1.92 GiB\n",
      "2022-11-18 12:01:43,928 - distributed.worker_memory - WARNING - Unmanaged memory use is high. This may indicate a memory leak or the memory may not be released to the OS; see https://distributed.dask.org/en/latest/worker-memory.html#memory-not-released-back-to-the-os for more information. -- Unmanaged memory: 1.47 GiB -- Worker memory limit: 1.92 GiB\n",
      "2022-11-18 12:01:44,025 - distributed.worker_memory - WARNING - Unmanaged memory use is high. This may indicate a memory leak or the memory may not be released to the OS; see https://distributed.dask.org/en/latest/worker-memory.html#memory-not-released-back-to-the-os for more information. -- Unmanaged memory: 1.51 GiB -- Worker memory limit: 1.92 GiB\n",
      "2022-11-18 12:01:44,126 - distributed.worker_memory - WARNING - Worker is at 80% memory usage. Pausing worker.  Process memory: 1.55 GiB -- Worker memory limit: 1.92 GiB\n",
      "2022-11-18 12:01:44,126 - distributed.worker_memory - WARNING - Unmanaged memory use is high. This may indicate a memory leak or the memory may not be released to the OS; see https://distributed.dask.org/en/latest/worker-memory.html#memory-not-released-back-to-the-os for more information. -- Unmanaged memory: 1.55 GiB -- Worker memory limit: 1.92 GiB\n",
      "2022-11-18 12:01:44,225 - distributed.worker_memory - WARNING - Unmanaged memory use is high. This may indicate a memory leak or the memory may not be released to the OS; see https://distributed.dask.org/en/latest/worker-memory.html#memory-not-released-back-to-the-os for more information. -- Unmanaged memory: 1.62 GiB -- Worker memory limit: 1.92 GiB\n"
     ]
    },
    {
     "name": "stdout",
     "output_type": "stream",
     "text": [
      "Done: era5_2012_day.nc\n"
     ]
    },
    {
     "name": "stderr",
     "output_type": "stream",
     "text": [
      "2022-11-18 12:01:44,705 - distributed.worker_memory - WARNING - Worker is at 31% memory usage. Resuming worker. Process memory: 612.25 MiB -- Worker memory limit: 1.92 GiB\n",
      "2022-11-18 12:01:46,325 - distributed.worker_memory - WARNING - Unmanaged memory use is high. This may indicate a memory leak or the memory may not be released to the OS; see https://distributed.dask.org/en/latest/worker-memory.html#memory-not-released-back-to-the-os for more information. -- Unmanaged memory: 1.41 GiB -- Worker memory limit: 1.92 GiB\n",
      "2022-11-18 12:01:46,429 - distributed.worker_memory - WARNING - Unmanaged memory use is high. This may indicate a memory leak or the memory may not be released to the OS; see https://distributed.dask.org/en/latest/worker-memory.html#memory-not-released-back-to-the-os for more information. -- Unmanaged memory: 1.52 GiB -- Worker memory limit: 1.92 GiB\n",
      "2022-11-18 12:01:46,525 - distributed.worker_memory - WARNING - Worker is at 80% memory usage. Pausing worker.  Process memory: 1.55 GiB -- Worker memory limit: 1.92 GiB\n",
      "2022-11-18 12:01:46,525 - distributed.worker_memory - WARNING - Unmanaged memory use is high. This may indicate a memory leak or the memory may not be released to the OS; see https://distributed.dask.org/en/latest/worker-memory.html#memory-not-released-back-to-the-os for more information. -- Unmanaged memory: 1.55 GiB -- Worker memory limit: 1.92 GiB\n",
      "2022-11-18 12:01:46,626 - distributed.worker_memory - WARNING - Unmanaged memory use is high. This may indicate a memory leak or the memory may not be released to the OS; see https://distributed.dask.org/en/latest/worker-memory.html#memory-not-released-back-to-the-os for more information. -- Unmanaged memory: 1.63 GiB -- Worker memory limit: 1.92 GiB\n"
     ]
    },
    {
     "name": "stdout",
     "output_type": "stream",
     "text": [
      "Done: era5_2013_day.nc\n"
     ]
    },
    {
     "name": "stderr",
     "output_type": "stream",
     "text": [
      "2022-11-18 12:01:46,828 - distributed.worker_memory - WARNING - Worker is at 31% memory usage. Resuming worker. Process memory: 619.12 MiB -- Worker memory limit: 1.92 GiB\n",
      "2022-11-18 12:01:48,428 - distributed.worker_memory - WARNING - Unmanaged memory use is high. This may indicate a memory leak or the memory may not be released to the OS; see https://distributed.dask.org/en/latest/worker-memory.html#memory-not-released-back-to-the-os for more information. -- Unmanaged memory: 1.37 GiB -- Worker memory limit: 1.92 GiB\n",
      "2022-11-18 12:01:48,626 - distributed.worker_memory - WARNING - Unmanaged memory use is high. This may indicate a memory leak or the memory may not be released to the OS; see https://distributed.dask.org/en/latest/worker-memory.html#memory-not-released-back-to-the-os for more information. -- Unmanaged memory: 1.44 GiB -- Worker memory limit: 1.92 GiB\n",
      "2022-11-18 12:01:48,728 - distributed.worker_memory - WARNING - Worker is at 81% memory usage. Pausing worker.  Process memory: 1.56 GiB -- Worker memory limit: 1.92 GiB\n",
      "2022-11-18 12:01:48,728 - distributed.worker_memory - WARNING - Unmanaged memory use is high. This may indicate a memory leak or the memory may not be released to the OS; see https://distributed.dask.org/en/latest/worker-memory.html#memory-not-released-back-to-the-os for more information. -- Unmanaged memory: 1.56 GiB -- Worker memory limit: 1.92 GiB\n",
      "2022-11-18 12:01:48,827 - distributed.worker_memory - WARNING - Unmanaged memory use is high. This may indicate a memory leak or the memory may not be released to the OS; see https://distributed.dask.org/en/latest/worker-memory.html#memory-not-released-back-to-the-os for more information. -- Unmanaged memory: 1.63 GiB -- Worker memory limit: 1.92 GiB\n",
      "2022-11-18 12:01:48,929 - distributed.worker_memory - WARNING - Worker is at 31% memory usage. Resuming worker. Process memory: 626.05 MiB -- Worker memory limit: 1.92 GiB\n"
     ]
    },
    {
     "name": "stdout",
     "output_type": "stream",
     "text": [
      "Done: era5_2014_day.nc\n"
     ]
    },
    {
     "name": "stderr",
     "output_type": "stream",
     "text": [
      "2022-11-18 12:01:50,825 - distributed.worker_memory - WARNING - Unmanaged memory use is high. This may indicate a memory leak or the memory may not be released to the OS; see https://distributed.dask.org/en/latest/worker-memory.html#memory-not-released-back-to-the-os for more information. -- Unmanaged memory: 1.46 GiB -- Worker memory limit: 1.92 GiB\n",
      "2022-11-18 12:01:50,928 - distributed.worker_memory - WARNING - Worker is at 82% memory usage. Pausing worker.  Process memory: 1.57 GiB -- Worker memory limit: 1.92 GiB\n",
      "2022-11-18 12:01:50,928 - distributed.worker_memory - WARNING - Unmanaged memory use is high. This may indicate a memory leak or the memory may not be released to the OS; see https://distributed.dask.org/en/latest/worker-memory.html#memory-not-released-back-to-the-os for more information. -- Unmanaged memory: 1.57 GiB -- Worker memory limit: 1.92 GiB\n",
      "2022-11-18 12:01:51,026 - distributed.worker_memory - WARNING - Unmanaged memory use is high. This may indicate a memory leak or the memory may not be released to the OS; see https://distributed.dask.org/en/latest/worker-memory.html#memory-not-released-back-to-the-os for more information. -- Unmanaged memory: 1.59 GiB -- Worker memory limit: 1.92 GiB\n",
      "2022-11-18 12:01:51,125 - distributed.worker_memory - WARNING - Unmanaged memory use is high. This may indicate a memory leak or the memory may not be released to the OS; see https://distributed.dask.org/en/latest/worker-memory.html#memory-not-released-back-to-the-os for more information. -- Unmanaged memory: 1.63 GiB -- Worker memory limit: 1.92 GiB\n",
      "2022-11-18 12:01:51,225 - distributed.worker_memory - WARNING - Unmanaged memory use is high. This may indicate a memory leak or the memory may not be released to the OS; see https://distributed.dask.org/en/latest/worker-memory.html#memory-not-released-back-to-the-os for more information. -- Unmanaged memory: 1.65 GiB -- Worker memory limit: 1.92 GiB\n",
      "2022-11-18 12:01:51,325 - distributed.worker_memory - WARNING - Worker is at 32% memory usage. Resuming worker. Process memory: 632.97 MiB -- Worker memory limit: 1.92 GiB\n"
     ]
    },
    {
     "name": "stdout",
     "output_type": "stream",
     "text": [
      "Done: era5_2015_day.nc\n"
     ]
    }
   ],
   "source": [
    "client.submit(run_dask)"
   ]
  }
 ],
 "metadata": {
  "kernelspec": {
   "display_name": "Python 3.10.5 ('DL_SMB')",
   "language": "python",
   "name": "python3"
  },
  "language_info": {
   "codemirror_mode": {
    "name": "ipython",
    "version": 3
   },
   "file_extension": ".py",
   "mimetype": "text/x-python",
   "name": "python",
   "nbconvert_exporter": "python",
   "pygments_lexer": "ipython3",
   "version": "3.10.5"
  },
  "orig_nbformat": 4,
  "vscode": {
   "interpreter": {
    "hash": "02b761a1ae88bd6b2e3a382f38c1f72e4fd8c0aeb71343e8eef9dc568c1adda5"
   }
  }
 },
 "nbformat": 4,
 "nbformat_minor": 2
}
