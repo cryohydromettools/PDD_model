{
 "cells": [
  {
   "cell_type": "code",
   "execution_count": 125,
   "metadata": {},
   "outputs": [],
   "source": [
    "import pandas as pd\n",
    "import numpy as np\n",
    "import matplotlib.pyplot as plt\n",
    "\n",
    "import sys\n",
    "sys.path.append('../')\n",
    "from utilities.plot_results import plot_prediction\n"
   ]
  },
  {
   "cell_type": "code",
   "execution_count": 126,
   "metadata": {},
   "outputs": [
    {
     "data": {
      "text/html": [
       "<div>\n",
       "<style scoped>\n",
       "    .dataframe tbody tr th:only-of-type {\n",
       "        vertical-align: middle;\n",
       "    }\n",
       "\n",
       "    .dataframe tbody tr th {\n",
       "        vertical-align: top;\n",
       "    }\n",
       "\n",
       "    .dataframe thead th {\n",
       "        text-align: right;\n",
       "    }\n",
       "</style>\n",
       "<table border=\"1\" class=\"dataframe\">\n",
       "  <thead>\n",
       "    <tr style=\"text-align: right;\">\n",
       "      <th></th>\n",
       "      <th>Stake</th>\n",
       "      <th>Latitude</th>\n",
       "      <th>Longitude</th>\n",
       "      <th>Elevation</th>\n",
       "      <th>Days</th>\n",
       "      <th>SMB</th>\n",
       "      <th>t2m</th>\n",
       "      <th>sf</th>\n",
       "      <th>PDD</th>\n",
       "    </tr>\n",
       "    <tr>\n",
       "      <th>Date</th>\n",
       "      <th></th>\n",
       "      <th></th>\n",
       "      <th></th>\n",
       "      <th></th>\n",
       "      <th></th>\n",
       "      <th></th>\n",
       "      <th></th>\n",
       "      <th></th>\n",
       "      <th></th>\n",
       "    </tr>\n",
       "  </thead>\n",
       "  <tbody>\n",
       "    <tr>\n",
       "      <th>2008-01-26</th>\n",
       "      <td>R15</td>\n",
       "      <td>-62.178873</td>\n",
       "      <td>-58.907921</td>\n",
       "      <td>54.0</td>\n",
       "      <td>21</td>\n",
       "      <td>-0.23003</td>\n",
       "      <td>0.669618</td>\n",
       "      <td>0.018224</td>\n",
       "      <td>15.887604</td>\n",
       "    </tr>\n",
       "    <tr>\n",
       "      <th>2008-02-02</th>\n",
       "      <td>R15</td>\n",
       "      <td>-62.178873</td>\n",
       "      <td>-58.907921</td>\n",
       "      <td>54.0</td>\n",
       "      <td>7</td>\n",
       "      <td>-0.02890</td>\n",
       "      <td>1.335468</td>\n",
       "      <td>0.000028</td>\n",
       "      <td>10.683746</td>\n",
       "    </tr>\n",
       "    <tr>\n",
       "      <th>2008-02-09</th>\n",
       "      <td>R15</td>\n",
       "      <td>-62.178873</td>\n",
       "      <td>-58.907921</td>\n",
       "      <td>54.0</td>\n",
       "      <td>7</td>\n",
       "      <td>-0.04356</td>\n",
       "      <td>0.495777</td>\n",
       "      <td>0.009557</td>\n",
       "      <td>4.213654</td>\n",
       "    </tr>\n",
       "    <tr>\n",
       "      <th>2008-02-17</th>\n",
       "      <td>R15</td>\n",
       "      <td>-62.178873</td>\n",
       "      <td>-58.907921</td>\n",
       "      <td>54.0</td>\n",
       "      <td>8</td>\n",
       "      <td>-0.20554</td>\n",
       "      <td>1.629045</td>\n",
       "      <td>0.000120</td>\n",
       "      <td>14.661407</td>\n",
       "    </tr>\n",
       "    <tr>\n",
       "      <th>2008-02-24</th>\n",
       "      <td>R15</td>\n",
       "      <td>-62.178873</td>\n",
       "      <td>-58.907921</td>\n",
       "      <td>54.0</td>\n",
       "      <td>7</td>\n",
       "      <td>-0.11200</td>\n",
       "      <td>1.876850</td>\n",
       "      <td>0.001954</td>\n",
       "      <td>15.014801</td>\n",
       "    </tr>\n",
       "    <tr>\n",
       "      <th>...</th>\n",
       "      <td>...</td>\n",
       "      <td>...</td>\n",
       "      <td>...</td>\n",
       "      <td>...</td>\n",
       "      <td>...</td>\n",
       "      <td>...</td>\n",
       "      <td>...</td>\n",
       "      <td>...</td>\n",
       "      <td>...</td>\n",
       "    </tr>\n",
       "    <tr>\n",
       "      <th>2012-02-04</th>\n",
       "      <td>9N</td>\n",
       "      <td>-62.166223</td>\n",
       "      <td>-58.883543</td>\n",
       "      <td>261.0</td>\n",
       "      <td>15</td>\n",
       "      <td>-0.07890</td>\n",
       "      <td>-1.191734</td>\n",
       "      <td>0.007514</td>\n",
       "      <td>0.085175</td>\n",
       "    </tr>\n",
       "    <tr>\n",
       "      <th>2012-02-19</th>\n",
       "      <td>9N</td>\n",
       "      <td>-62.166223</td>\n",
       "      <td>-58.883543</td>\n",
       "      <td>261.0</td>\n",
       "      <td>15</td>\n",
       "      <td>-0.08170</td>\n",
       "      <td>-1.147125</td>\n",
       "      <td>0.012092</td>\n",
       "      <td>1.320099</td>\n",
       "    </tr>\n",
       "    <tr>\n",
       "      <th>2012-03-04</th>\n",
       "      <td>9N</td>\n",
       "      <td>-62.166223</td>\n",
       "      <td>-58.883543</td>\n",
       "      <td>261.0</td>\n",
       "      <td>14</td>\n",
       "      <td>0.09720</td>\n",
       "      <td>-2.062679</td>\n",
       "      <td>0.004308</td>\n",
       "      <td>0.260529</td>\n",
       "    </tr>\n",
       "    <tr>\n",
       "      <th>2012-03-17</th>\n",
       "      <td>9N</td>\n",
       "      <td>-62.166223</td>\n",
       "      <td>-58.883543</td>\n",
       "      <td>261.0</td>\n",
       "      <td>13</td>\n",
       "      <td>-0.21880</td>\n",
       "      <td>-0.534182</td>\n",
       "      <td>0.002368</td>\n",
       "      <td>1.038239</td>\n",
       "    </tr>\n",
       "    <tr>\n",
       "      <th>2012-03-30</th>\n",
       "      <td>9N</td>\n",
       "      <td>-62.166223</td>\n",
       "      <td>-58.883543</td>\n",
       "      <td>261.0</td>\n",
       "      <td>13</td>\n",
       "      <td>0.07460</td>\n",
       "      <td>-2.930662</td>\n",
       "      <td>0.020560</td>\n",
       "      <td>0.000000</td>\n",
       "    </tr>\n",
       "  </tbody>\n",
       "</table>\n",
       "<p>2536 rows × 9 columns</p>\n",
       "</div>"
      ],
      "text/plain": [
       "           Stake   Latitude  Longitude  Elevation  Days      SMB       t2m  \\\n",
       "Date                                                                         \n",
       "2008-01-26   R15 -62.178873 -58.907921       54.0    21 -0.23003  0.669618   \n",
       "2008-02-02   R15 -62.178873 -58.907921       54.0     7 -0.02890  1.335468   \n",
       "2008-02-09   R15 -62.178873 -58.907921       54.0     7 -0.04356  0.495777   \n",
       "2008-02-17   R15 -62.178873 -58.907921       54.0     8 -0.20554  1.629045   \n",
       "2008-02-24   R15 -62.178873 -58.907921       54.0     7 -0.11200  1.876850   \n",
       "...          ...        ...        ...        ...   ...      ...       ...   \n",
       "2012-02-04    9N -62.166223 -58.883543      261.0    15 -0.07890 -1.191734   \n",
       "2012-02-19    9N -62.166223 -58.883543      261.0    15 -0.08170 -1.147125   \n",
       "2012-03-04    9N -62.166223 -58.883543      261.0    14  0.09720 -2.062679   \n",
       "2012-03-17    9N -62.166223 -58.883543      261.0    13 -0.21880 -0.534182   \n",
       "2012-03-30    9N -62.166223 -58.883543      261.0    13  0.07460 -2.930662   \n",
       "\n",
       "                  sf        PDD  \n",
       "Date                             \n",
       "2008-01-26  0.018224  15.887604  \n",
       "2008-02-02  0.000028  10.683746  \n",
       "2008-02-09  0.009557   4.213654  \n",
       "2008-02-17  0.000120  14.661407  \n",
       "2008-02-24  0.001954  15.014801  \n",
       "...              ...        ...  \n",
       "2012-02-04  0.007514   0.085175  \n",
       "2012-02-19  0.012092   1.320099  \n",
       "2012-03-04  0.004308   0.260529  \n",
       "2012-03-17  0.002368   1.038239  \n",
       "2012-03-30  0.020560   0.000000  \n",
       "\n",
       "[2536 rows x 9 columns]"
      ]
     },
     "execution_count": 126,
     "metadata": {},
     "output_type": "execute_result"
    }
   ],
   "source": [
    "cs_file = '../data/SMB_input_belli_ERA5.csv'\n",
    "\n",
    "df_test = pd.read_csv(cs_file, delimiter='\\t', index_col=['Date'], parse_dates=['Date'], na_values='NAN')\n",
    "\n",
    "df_test"
   ]
  },
  {
   "cell_type": "code",
   "execution_count": 127,
   "metadata": {},
   "outputs": [],
   "source": [
    "df_test['Year'] =df_test.index.year"
   ]
  },
  {
   "cell_type": "code",
   "execution_count": 128,
   "metadata": {},
   "outputs": [],
   "source": [
    "labels = df_test.drop_duplicates(subset=['Stake'])\n",
    "label_year = df_test.drop_duplicates(subset=['Year']).sort_values(by=['Year'])['Year'].values"
   ]
  },
  {
   "cell_type": "code",
   "execution_count": 129,
   "metadata": {},
   "outputs": [],
   "source": [
    "smb_sea = []\n",
    "for j in labels['Stake'][0:]:\n",
    "    stake = df_test.loc[lambda df: df['Stake'] == j, :]    \n",
    "    for i in label_year[:-1]:\n",
    "        time1_w = str(i)+'1001'\n",
    "        time2_w = str(i+1)+'0331'\n",
    "        smb_sea.append(stake[time1_w:time2_w])"
   ]
  },
  {
   "cell_type": "code",
   "execution_count": 130,
   "metadata": {},
   "outputs": [],
   "source": [
    "smb_sea_t = pd.concat(smb_sea)\n",
    "smb_sea_t.reset_index(drop=True, inplace=True)"
   ]
  },
  {
   "cell_type": "code",
   "execution_count": 131,
   "metadata": {},
   "outputs": [],
   "source": [
    "#smb_sea_t['PDD'] = smb_sea_t['PDD']/(smb_sea_t['Days'])\n",
    "#smb_sea_t['SMB'] = smb_sea_t['SMB']/(smb_sea_t['Days'])"
   ]
  },
  {
   "cell_type": "code",
   "execution_count": 132,
   "metadata": {},
   "outputs": [
    {
     "name": "stdout",
     "output_type": "stream",
     "text": [
      "         PDD      SMB\n",
      "0  15.887604 -0.23003\n",
      "1  10.683746 -0.02890\n",
      "2   4.213654 -0.04356\n",
      "3  14.661407 -0.20554\n",
      "4  15.014801 -0.11200\n",
      "825\n",
      "          PDD       SMB\n",
      "PDD  1.000000 -0.691643\n",
      "SMB -0.691643  1.000000\n"
     ]
    }
   ],
   "source": [
    "smb_sea_t = smb_sea_t[['PDD', 'SMB']].where(smb_sea_t['SMB'] <= 0, np.nan).where(smb_sea_t['SMB'] > -0.4, np.nan).where(smb_sea_t['Elevation'] < 200, np.nan).dropna()\n",
    "print(smb_sea_t.head())\n",
    "print(len(smb_sea_t))\n",
    "print(smb_sea_t.corr())"
   ]
  },
  {
   "cell_type": "code",
   "execution_count": 133,
   "metadata": {},
   "outputs": [
    {
     "data": {
      "text/html": [
       "<div>\n",
       "<style scoped>\n",
       "    .dataframe tbody tr th:only-of-type {\n",
       "        vertical-align: middle;\n",
       "    }\n",
       "\n",
       "    .dataframe tbody tr th {\n",
       "        vertical-align: top;\n",
       "    }\n",
       "\n",
       "    .dataframe thead th {\n",
       "        text-align: right;\n",
       "    }\n",
       "</style>\n",
       "<table border=\"1\" class=\"dataframe\">\n",
       "  <thead>\n",
       "    <tr style=\"text-align: right;\">\n",
       "      <th></th>\n",
       "      <th>PDD</th>\n",
       "      <th>SMB</th>\n",
       "    </tr>\n",
       "  </thead>\n",
       "  <tbody>\n",
       "    <tr>\n",
       "      <th>0</th>\n",
       "      <td>15.887604</td>\n",
       "      <td>-0.23003</td>\n",
       "    </tr>\n",
       "    <tr>\n",
       "      <th>1</th>\n",
       "      <td>10.683746</td>\n",
       "      <td>-0.02890</td>\n",
       "    </tr>\n",
       "    <tr>\n",
       "      <th>2</th>\n",
       "      <td>4.213654</td>\n",
       "      <td>-0.04356</td>\n",
       "    </tr>\n",
       "    <tr>\n",
       "      <th>3</th>\n",
       "      <td>14.661407</td>\n",
       "      <td>-0.20554</td>\n",
       "    </tr>\n",
       "    <tr>\n",
       "      <th>4</th>\n",
       "      <td>15.014801</td>\n",
       "      <td>-0.11200</td>\n",
       "    </tr>\n",
       "    <tr>\n",
       "      <th>...</th>\n",
       "      <td>...</td>\n",
       "      <td>...</td>\n",
       "    </tr>\n",
       "    <tr>\n",
       "      <th>1110</th>\n",
       "      <td>0.995453</td>\n",
       "      <td>-0.03500</td>\n",
       "    </tr>\n",
       "    <tr>\n",
       "      <th>1111</th>\n",
       "      <td>4.242706</td>\n",
       "      <td>-0.03630</td>\n",
       "    </tr>\n",
       "    <tr>\n",
       "      <th>1112</th>\n",
       "      <td>2.286743</td>\n",
       "      <td>-0.09630</td>\n",
       "    </tr>\n",
       "    <tr>\n",
       "      <th>1113</th>\n",
       "      <td>5.154205</td>\n",
       "      <td>-0.18860</td>\n",
       "    </tr>\n",
       "    <tr>\n",
       "      <th>1114</th>\n",
       "      <td>0.000000</td>\n",
       "      <td>-0.00000</td>\n",
       "    </tr>\n",
       "  </tbody>\n",
       "</table>\n",
       "<p>825 rows × 2 columns</p>\n",
       "</div>"
      ],
      "text/plain": [
       "            PDD      SMB\n",
       "0     15.887604 -0.23003\n",
       "1     10.683746 -0.02890\n",
       "2      4.213654 -0.04356\n",
       "3     14.661407 -0.20554\n",
       "4     15.014801 -0.11200\n",
       "...         ...      ...\n",
       "1110   0.995453 -0.03500\n",
       "1111   4.242706 -0.03630\n",
       "1112   2.286743 -0.09630\n",
       "1113   5.154205 -0.18860\n",
       "1114   0.000000 -0.00000\n",
       "\n",
       "[825 rows x 2 columns]"
      ]
     },
     "execution_count": 133,
     "metadata": {},
     "output_type": "execute_result"
    }
   ],
   "source": [
    "smb_sea_t"
   ]
  },
  {
   "cell_type": "code",
   "execution_count": 134,
   "metadata": {},
   "outputs": [],
   "source": [
    "from sklearn.linear_model import LinearRegression\n",
    "from sklearn.metrics import r2_score"
   ]
  },
  {
   "cell_type": "code",
   "execution_count": 135,
   "metadata": {},
   "outputs": [
    {
     "name": "stdout",
     "output_type": "stream",
     "text": [
      "LinearRegression()\n",
      "[-5.  -4.5 -4.  -3.5 -3.  -2.5 -2.  -1.5 -1.  -0.5  0.   0.5  1.   1.5\n",
      "  2.   2.5  3.   3.5  4.   4.5  5.   5.5  6.   6.5  7.   7.5  8.   8.5\n",
      "  9.   9.5 10.  10.5 11.  11.5 12.  12.5 13.  13.5 14.  14.5 15.  15.5\n",
      " 16.  16.5 17.  17.5 18.  18.5 19.  19.5 20.  20.5 21.  21.5 22.  22.5\n",
      " 23.  23.5 24.  24.5 25.  25.5 26.  26.5 27.  27.5 28.  28.5 29.  29.5\n",
      " 30.  30.5 31.  31.5 32.  32.5 33.  33.5 34.  34.5]\n"
     ]
    }
   ],
   "source": [
    "y1 = smb_sea_t['PDD'].values\n",
    "y2 = smb_sea_t['SMB'].values\n",
    "reg = LinearRegression().fit(y1.reshape(-1, 1),y2)\n",
    "print(reg)\n",
    "x_int = np.arange(-5,35,0.5)\n",
    "print(x_int)"
   ]
  },
  {
   "cell_type": "code",
   "execution_count": 146,
   "metadata": {},
   "outputs": [
    {
     "name": "stdout",
     "output_type": "stream",
     "text": [
      "$R^2=-0.95$\n",
      "$MF=-0.054$ m PDD$^{-1}$\n"
     ]
    }
   ],
   "source": [
    "textstr = '\\n'.join((\n",
    "r'$R^2=%.2f$' % (r2_score(y1, y2), ),\n",
    "r'$MF=%.3f$' % (reg.intercept_)+' '+'m PDD$^{-1}$', ))\n",
    "print(textstr)"
   ]
  },
  {
   "cell_type": "code",
   "execution_count": 154,
   "metadata": {},
   "outputs": [
    {
     "name": "stdout",
     "output_type": "stream",
     "text": [
      "-0.05419102705703541\n"
     ]
    },
    {
     "data": {
      "image/png": "[encoded data removed]",
      "text/plain": [
       "<Figure size 360x288 with 1 Axes>"
      ]
     },
     "metadata": {
      "needs_background": "light"
     },
     "output_type": "display_data"
    }
   ],
   "source": [
    "fig = plt.figure(figsize=(5,4))\n",
    "plt.scatter(smb_sea_t['PDD'], smb_sea_t['SMB'], s=5, color='k')\n",
    "plt.plot(x_int, reg.intercept_ + reg.coef_ * x_int, linewidth=0.8, color='r', linestyle ='-')\n",
    "plt.ylabel('Melt (m w.e.)', fontsize=16)\n",
    "plt.xlabel('PDD ERA5', fontsize=16)\n",
    "plt.xlim(0, 30)\n",
    "plt.ylim(-0.5, 0)\n",
    "plt.xticks(np.arange(0,35,5), fontsize=16)\n",
    "plt.yticks(np.arange(-0.5,0.1,0.1), fontsize=16)\n",
    "\n",
    "# Vamos agregar un caja para que se muestre los indicadores estadísticos. Aquí configuramos los propiedades de la caja\n",
    "props = dict(boxstyle='round', facecolor='wheat', alpha=0.5)\n",
    "\n",
    "# Ahora podemos agregar nuestros indicadores estadísticos\n",
    "plt.text(0.05, 0.25, textstr, transform=plt.gca().transAxes, fontsize=14,\n",
    "        verticalalignment='top', bbox=props)\n",
    "print(reg.intercept_)\n",
    "\n",
    "# Finalmente guardamos nuestra figura\n",
    "fig.savefig('../fig/Cal_2007-2012.png', dpi = 200, facecolor='w', bbox_inches = 'tight', \n",
    "            pad_inches = 0.1)\n"
   ]
  }
 ],
 "metadata": {
  "kernelspec": {
   "display_name": "Python 3.10.5 ('DL_SMB')",
   "language": "python",
   "name": "python3"
  },
  "language_info": {
   "codemirror_mode": {
    "name": "ipython",
    "version": 3
   },
   "file_extension": ".py",
   "mimetype": "text/x-python",
   "name": "python",
   "nbconvert_exporter": "python",
   "pygments_lexer": "ipython3",
   "version": "3.10.5"
  },
  "orig_nbformat": 4,
  "vscode": {
   "interpreter": {
    "hash": "02b761a1ae88bd6b2e3a382f38c1f72e4fd8c0aeb71343e8eef9dc568c1adda5"
   }
  }
 },
 "nbformat": 4,
 "nbformat_minor": 2
}
